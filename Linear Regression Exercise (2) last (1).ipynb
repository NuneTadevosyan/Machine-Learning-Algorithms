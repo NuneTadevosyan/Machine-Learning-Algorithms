{
 "cells": [
  {
   "cell_type": "markdown",
   "metadata": {
    "collapsed": true
   },
   "source": [
    "# Line equation"
   ]
  },
  {
   "cell_type": "markdown",
   "metadata": {},
   "source": [
    "## From previous homework"
   ]
  },
  {
   "cell_type": "code",
   "execution_count": 202,
   "metadata": {
    "ExecuteTime": {
     "end_time": "2022-01-08T17:15:13.465976Z",
     "start_time": "2022-01-08T17:15:13.464132Z"
    }
   },
   "outputs": [],
   "source": [
    "theta_0 = 0.2\n",
    "theta_1 = 0.3\n",
    "variance = 1.5\n",
    "import numpy as np\n",
    "import math"
   ]
  },
  {
   "cell_type": "markdown",
   "metadata": {},
   "source": [
    "#### Generate 100 points uniform randomly in range [-50,50] and assign it to X1\n"
   ]
  },
  {
   "cell_type": "code",
   "execution_count": 203,
   "metadata": {},
   "outputs": [],
   "source": [
    "X1 = np.random.uniform(-50,50,100)"
   ]
  },
  {
   "cell_type": "markdown",
   "metadata": {},
   "source": [
    "####  Generate respectively 'y's normally distributed with standart deviation sqrt(variance) around line theta_0+theta_1*x and assign it to Y"
   ]
  },
  {
   "cell_type": "code",
   "execution_count": 204,
   "metadata": {},
   "outputs": [],
   "source": [
    "Y = theta_0+theta_1*X1 + np.random.normal(-math.sqrt(variance),math.sqrt(variance), 100)\n",
    "Y1 = theta_0+theta_1*X1\n"
   ]
  },
  {
   "cell_type": "markdown",
   "metadata": {},
   "source": [
    "#### Scatter plot (x,y)"
   ]
  },
  {
   "cell_type": "code",
   "execution_count": 205,
   "metadata": {
    "ExecuteTime": {
     "end_time": "2022-01-08T17:30:40.706922Z",
     "start_time": "2022-01-08T17:30:40.556380Z"
    }
   },
   "outputs": [],
   "source": [
    "import matplotlib.pyplot as plt\n",
    "%matplotlib inline\n"
   ]
  },
  {
   "cell_type": "code",
   "execution_count": 206,
   "metadata": {},
   "outputs": [
    {
     "data": {
      "text/plain": [
       "<matplotlib.collections.PathCollection at 0x1e649c56e50>"
      ]
     },
     "execution_count": 206,
     "metadata": {},
     "output_type": "execute_result"
    },
    {
     "data": {
      "image/png": "[encoded data removed]",
      "text/plain": [
       "<Figure size 432x288 with 1 Axes>"
      ]
     },
     "metadata": {
      "needs_background": "light"
     },
     "output_type": "display_data"
    }
   ],
   "source": [
    "plt.scatter(X1,Y)"
   ]
  },
  {
   "cell_type": "markdown",
   "metadata": {},
   "source": [
    "## Implement closed form solution"
   ]
  },
  {
   "cell_type": "markdown",
   "metadata": {},
   "source": [
    "#### Add 1 next to each row ( 1 corresponds to theta_0*x_0 where x_0-s are 1 (this becomes clear during the next lecture)).  Assign the result to variable X and assure that X is an array"
   ]
  },
  {
   "cell_type": "code",
   "execution_count": 207,
   "metadata": {},
   "outputs": [],
   "source": [
    "\n",
    "\n",
    "X=np.hstack(( np.ones((100,1)),X1.reshape(100,1)))"
   ]
  },
  {
   "cell_type": "markdown",
   "metadata": {},
   "source": [
    "#### Create fit_linear_regression(X, Y) function which implements formula (inverse_of(X_transpose*X))*X_transpose*Y, i.e. \n",
    "* theta0_est, theta1_est= fit_linear_regression(X, Y)\n"
   ]
  },
  {
   "cell_type": "code",
   "execution_count": 208,
   "metadata": {},
   "outputs": [],
   "source": [
    "def fit_linear_regression(X,Y):\n",
    "    return(np.linalg.inv(X.T.dot(X)).dot(X.T).dot(Y))\n",
    "theta0_est, theta1_est = fit_linear_regression(X,Y)"
   ]
  },
  {
   "cell_type": "markdown",
   "metadata": {},
   "source": [
    " Plot two lines on the same plot based on original theta0, theta1 and calculated theta0_est, theta1_est, i.e. write a function which looks like this: plot_line(theta_0, theta_1 X, Y)"
   ]
  },
  {
   "cell_type": "code",
   "execution_count": 209,
   "metadata": {
    "ExecuteTime": {
     "end_time": "2022-01-08T19:43:37.926126Z",
     "start_time": "2022-01-08T19:43:37.769732Z"
    }
   },
   "outputs": [
    {
     "data": {
      "text/plain": [
       "<matplotlib.collections.PathCollection at 0x1e649cda130>"
      ]
     },
     "execution_count": 209,
     "metadata": {},
     "output_type": "execute_result"
    },
    {
     "data": {
      "image/png": "[encoded data removed]",
      "text/plain": [
       "<Figure size 432x288 with 1 Axes>"
      ]
     },
     "metadata": {
      "needs_background": "light"
     },
     "output_type": "display_data"
    }
   ],
   "source": [
    "import matplotlib.pyplot as plt\n",
    "%matplotlib inline\n",
    "def plot_line(theta_0, theta_1, X, Y):\n",
    "    plt.plot(X,Y,'r')\n",
    "    y1 =  theta_0+theta_1*X\n",
    "    plt.plot(X,y1,'y')\n",
    "plot_line(theta0_est, theta1_est,X1,Y1)\n",
    "plt.scatter(X1,Y,color = 'black')"
   ]
  },
  {
   "cell_type": "code",
   "execution_count": null,
   "metadata": {
    "ExecuteTime": {
     "end_time": "2022-01-08T19:44:21.857635Z",
     "start_time": "2022-01-08T19:44:21.842921Z"
    },
    "scrolled": true
   },
   "outputs": [],
   "source": []
  },
  {
   "cell_type": "code",
   "execution_count": null,
   "metadata": {},
   "outputs": [],
   "source": []
  },
  {
   "cell_type": "code",
   "execution_count": null,
   "metadata": {},
   "outputs": [],
   "source": []
  },
  {
   "cell_type": "markdown",
   "metadata": {},
   "source": [
    "## Implement Gradient Descent solution"
   ]
  },
  {
   "cell_type": "code",
   "execution_count": 210,
   "metadata": {
    "ExecuteTime": {
     "end_time": "2022-01-13T08:28:22.706421Z",
     "start_time": "2022-01-13T08:28:22.700388Z"
    }
   },
   "outputs": [],
   "source": [
    "theta5d = [1.2, 2.3, 3.5, 4.1, 1.7, 3.8]"
   ]
  },
  {
   "cell_type": "markdown",
   "metadata": {},
   "source": [
    "#### Generate 100 points in the range [-1,-1] for 5 features, i.e. x.shape = (100,5). Add 1 next to each row for each feature. Fianlly generate corresponding y normally distributed around x.dot(theta) line with sigma = 2."
   ]
  },
  {
   "cell_type": "code",
   "execution_count": 211,
   "metadata": {},
   "outputs": [],
   "source": [
    "x1 = np.linspace(-1,1,100)\n",
    "x = np.array([np.linspace(-1,1,100),np.linspace(-1,1,100),np.linspace(-1,1,100),np.linspace(-1,1,100),np.linspace(-1,1,100)])\n",
    "x.shape = (100,5)\n",
    "x=np.hstack(( np.ones((100,1)),x))\n"
   ]
  },
  {
   "cell_type": "code",
   "execution_count": 212,
   "metadata": {
    "ExecuteTime": {
     "end_time": "2022-01-12T23:02:36.298102Z",
     "start_time": "2022-01-12T23:02:36.293327Z"
    }
   },
   "outputs": [],
   "source": [
    "#y =np.matmul(theta5d,np.transpose(x))  \n",
    "y = x.dot(theta5d) + np.random.normal(-2,2, 100)"
   ]
  },
  {
   "cell_type": "markdown",
   "metadata": {
    "ExecuteTime": {
     "end_time": "2022-01-12T22:31:32.082001Z",
     "start_time": "2022-01-12T22:31:32.072838Z"
    }
   },
   "source": [
    "* Implement fit_ridge_regression(X, Y, l). For the begining set l = 0., afterwards change it to gain intuition"
   ]
  },
  {
   "cell_type": "code",
   "execution_count": 213,
   "metadata": {},
   "outputs": [],
   "source": [
    "l=0.124 #thetas = inv(xTx + l*I) * xTy\n"
   ]
  },
  {
   "cell_type": "code",
   "execution_count": 214,
   "metadata": {},
   "outputs": [],
   "source": [
    "def fit_ridge_regression(x,y,l):\n",
    "    Xt = np.transpose(x)\n",
    "   # print(Xt)\n",
    "    XtX = np.matmul(Xt,x) + l * np.identity(x.shape[1])\n",
    "   # print(XtX)\n",
    "    thetas =np.matmul(np.matmul(np.linalg.inv(XtX),Xt), y)\n",
    "    return thetas"
   ]
  },
  {
   "cell_type": "code",
   "execution_count": 215,
   "metadata": {},
   "outputs": [
    {
     "data": {
      "text/plain": [
       "array([-0.78983429,  2.99632334,  2.98036709,  2.96441084,  2.9484546 ,\n",
       "        2.93249835])"
      ]
     },
     "execution_count": 215,
     "metadata": {},
     "output_type": "execute_result"
    }
   ],
   "source": [
    "theta_hat_analytic = fit_ridge_regression(x, y, l)\n",
    "theta_hat_analytic"
   ]
  },
  {
   "cell_type": "code",
   "execution_count": null,
   "metadata": {},
   "outputs": [],
   "source": []
  },
  {
   "cell_type": "markdown",
   "metadata": {},
   "source": [
    "* gradient_descent(X, Y, l, epsilon=1e-9, learning_rate=1e-4,max_steps=20000):"
   ]
  },
  {
   "cell_type": "code",
   "execution_count": 216,
   "metadata": {
    "ExecuteTime": {
     "end_time": "2022-01-13T09:03:51.190688Z",
     "start_time": "2022-01-13T09:03:51.181946Z"
    }
   },
   "outputs": [],
   "source": [
    "def gradient_descent(X, Y, l,  epsilon=1e-9, learning_rate=1e-4,max_steps=20000):\n",
    "    \"\"\"\n",
    "    Implement gradient descent using the value of the gradient\n",
    "    divided by number of samples.\n",
    "\n",
    "    :param X: data matrix\n",
    "    :param Y: target variables\n",
    "    :param l: regularization parameter lambda\n",
    "    :param epsilon: approximation strength\n",
    "    :param learning_rate: learning rate of the algorithm\n",
    "    :param max_steps: maximum number of iterations before algorithm will\n",
    "        terminate.\n",
    "    :return: value of beta (1 dimensional np.array)\n",
    "    \"\"\"\n",
    "    iterr = 0\n",
    "    n = x.shape[1]\n",
    "    thetas = np.ones(n)\n",
    "    \n",
    "    while iterr < max_steps:\n",
    "        y_est = X.dot(thetas)\n",
    "        error = y_est - Y\n",
    "        loss =  (1/2) *np.sum( error ** 2)\n",
    "        if loss < epsilon:\n",
    "            break\n",
    "        gradient = X.T.dot(error)\n",
    "        thetas = thetas - learning_rate*gradient\n",
    "        iterr += 1\n",
    "    return thetas"
   ]
  },
  {
   "cell_type": "code",
   "execution_count": 217,
   "metadata": {},
   "outputs": [
    {
     "data": {
      "text/plain": [
       "array([-0.78674508,  3.03876961,  3.00267375,  2.96657789,  2.93048203,\n",
       "        2.89438617])"
      ]
     },
     "execution_count": 217,
     "metadata": {},
     "output_type": "execute_result"
    }
   ],
   "source": [
    "theta_hat_grad = gradient_descent(x, y, l=l, epsilon=1e-9, learning_rate=1e-3,max_steps=20000)\n",
    "theta_hat_grad"
   ]
  },
  {
   "cell_type": "code",
   "execution_count": 218,
   "metadata": {},
   "outputs": [],
   "source": [
    "import random"
   ]
  },
  {
   "cell_type": "markdown",
   "metadata": {},
   "source": [
    "* stochastic_gradient_descent(X, Y, l, epsilon=1e-9, learning_rate=1e-4,max_steps=20000)"
   ]
  },
  {
   "cell_type": "code",
   "execution_count": 219,
   "metadata": {},
   "outputs": [],
   "source": [
    "    \n",
    "def stochastic_gradient_descent(X, y, epsilon=1e-9 ,learning_rate = 1e-4,max_steps=20000):\n",
    " \n",
    "    thetas = np.ones(X.shape[1]) \n",
    "    b = 0\n",
    "    n = X.shape[0]\n",
    "    \n",
    "    cost_list = []\n",
    "    epoch_list = []\n",
    "    \n",
    "    for i in range(max_steps):    \n",
    "        random_index = random.randint(0,n-1) \n",
    "        sample_x = X[random_index]\n",
    "        sample_y = y[random_index]\n",
    "        \n",
    "        y_est = np.dot(thetas, sample_x.T) \n",
    "        loss = (1/2) * (y_est - sample_y)**2\n",
    "        if loss < epsilon:\n",
    "            break\n",
    "        grad = (sample_x.T.dot(y_est-sample_y))\n",
    "        thetas = thetas - learning_rate * grad\n",
    "\n",
    "    return thetas,loss"
   ]
  },
  {
   "cell_type": "code",
   "execution_count": 220,
   "metadata": {
    "ExecuteTime": {
     "end_time": "2022-01-13T08:33:53.697673Z",
     "start_time": "2022-01-13T08:33:53.692364Z"
    }
   },
   "outputs": [
    {
     "data": {
      "text/plain": [
       "(array([-0.84482026,  3.04530738,  3.00803829,  2.97076919,  2.9335001 ,\n",
       "         2.896231  ]),\n",
       " 0.6613284753110575)"
      ]
     },
     "execution_count": 220,
     "metadata": {},
     "output_type": "execute_result"
    }
   ],
   "source": [
    "theta_hat_grad_st = stochastic_gradient_descent(x,y, epsilon=1e-9, learning_rate=1e-3,max_steps=20000)\n",
    "theta_hat_grad_st\n"
   ]
  },
  {
   "cell_type": "code",
   "execution_count": null,
   "metadata": {},
   "outputs": [],
   "source": []
  },
  {
   "cell_type": "code",
   "execution_count": null,
   "metadata": {},
   "outputs": [],
   "source": []
  },
  {
   "cell_type": "markdown",
   "metadata": {},
   "source": [
    "#### Implement k-fold (k=5) cross validation and use stochastic_gradient_descent for fitting and the theta parameter detection on each validation set. Return all 5 outputs, alongside with the averaged over 5 folds. Also calculate the loss for each fold and return the average."
   ]
  },
  {
   "cell_type": "code",
   "execution_count": 221,
   "metadata": {},
   "outputs": [
    {
     "name": "stdout",
     "output_type": "stream",
     "text": [
      "(array([-0.3730893 ,  2.9242361 ,  2.89649693,  2.86875775,  2.84101857,\n",
      "        2.81327939]), 7.284824784975484e-12)\n",
      "(array([-0.53746174,  2.91099083,  2.879931  ,  2.84887116,  2.81781133,\n",
      "        2.7867515 ]), 0.08491192423468377)\n",
      "(array([-0.58862772,  2.99540183,  2.96330834,  2.93121485,  2.89912136,\n",
      "        2.86702787]), 0.02985928266713498)\n",
      "(array([-0.51292786,  2.97389565,  2.94333145,  2.91276725,  2.88220305,\n",
      "        2.85163885]), 1.4601619954843492)\n",
      "(array([-0.60520396,  2.94936879,  2.91694042,  2.88451206,  2.8520837 ,\n",
      "        2.81965533]), 1.529287600406886)\n",
      "0.6208441605600677\n"
     ]
    }
   ],
   "source": [
    "from sklearn.model_selection import KFold\n",
    "kf = KFold(n_splits=5)\n",
    "avg = 0\n",
    "for train_index, test_index in kf.split(x):\n",
    "    x_train = x[train_index]\n",
    "    y_train = y[train_index]\n",
    "    res = stochastic_gradient_descent(x_train,y_train)\n",
    "    print(res)\n",
    "    avg += res[1]\n",
    "avg /= 5\n",
    "print(avg)"
   ]
  },
  {
   "cell_type": "code",
   "execution_count": null,
   "metadata": {},
   "outputs": [],
   "source": []
  },
  {
   "cell_type": "markdown",
   "metadata": {},
   "source": [
    "#### Let's go back to the last example of the previous homework, i.e. when generating sin(2*pi*x) function.\n",
    "* 1. Generate both train and test data (test data are the yellow dots). Take for both N = 15 points.\n",
    "* 2. Write a function that implements N-th order polynomial and run fit_ridge_regression on it.\n",
    "* 3. Plot 5 plots with fitting with order 0, 1, 2, 3 and N-1 order polynomials.\n",
    "* 4. Observe how the train and test errors change for each fit order(calculate and plot the U-shape).\n",
    "* 5. Pay attantion on how wiggly the fit becomes at N-1 order when the regularization coefficient is 0. "
   ]
  },
  {
   "cell_type": "code",
   "execution_count": 200,
   "metadata": {},
   "outputs": [
    {
     "name": "stdout",
     "output_type": "stream",
     "text": [
      "[[0.51690595 0.71896172 1.        ]\n",
      " [0.00913398 0.09557183 1.        ]\n",
      " [0.73035649 0.85460897 1.        ]\n",
      " [0.03134011 0.17703137 1.        ]\n",
      " [0.00635798 0.07973693 1.        ]\n",
      " [0.41789794 0.64645026 1.        ]\n",
      " [0.63537141 0.79710188 1.        ]\n",
      " [0.45218248 0.67244515 1.        ]\n",
      " [0.21968507 0.46870573 1.        ]\n",
      " [0.23871607 0.48858578 1.        ]\n",
      " [0.45482218 0.67440506 1.        ]\n",
      " [0.2770946  0.52639776 1.        ]\n",
      " [0.04659441 0.21585738 1.        ]\n",
      " [0.34633113 0.58849905 1.        ]\n",
      " [0.48762018 0.69829806 1.        ]]\n"
     ]
    },
    {
     "data": {
      "text/plain": [
       "<matplotlib.collections.PathCollection at 0x1e649bda430>"
      ]
     },
     "execution_count": 200,
     "metadata": {},
     "output_type": "execute_result"
    },
    {
     "data": {
      "image/png": "[encoded data removed]",
      "text/plain": [
       "<Figure size 1080x360 with 1 Axes>"
      ]
     },
     "metadata": {
      "needs_background": "light"
     },
     "output_type": "display_data"
    }
   ],
   "source": [
    "import numpy as np\n",
    "import math\n",
    "x= np.random.rand(30)\n",
    "\n",
    "y = np.sin(2*np.pi*x)+np.random.normal(loc = 0.0,scale = 0.3,size=30)\n",
    "np.random.shuffle(x)\n",
    "x_train,x_test=x[:15],x[15:30]\n",
    "#x.shape = (100,5)\n",
    "y_t = y = np.sin(2*np.pi*x_train)+np.random.normal(loc = 0.0,scale = 0.3,size=15)\n",
    "#x=np.hstack(( np.ones((100,1)),x))\n",
    "def n_polynomial(x,n):\n",
    "    arr = np.array([])\n",
    "    x.shape = (15,1)\n",
    "    if n != 0:\n",
    "        for i in range(n+1):\n",
    "            arr = np.hstack((x**i, x))\n",
    "        arr = np.hstack((arr,np.ones_like(x)))\n",
    "        return arr\n",
    "    return(np.ones_like(x))\n",
    "x_t = n_polynomial(x_train,2)\n",
    "print(x_t)\n",
    "\n",
    "thetas = fit_ridge_regression(x_t,y_t,l)\n",
    "y_l = np.matmul(x_t,thetas.T)\n",
    "fig, ax = plt.subplots(figsize=(15,5))\n",
    "\n",
    "ax.scatter(x_train,y_l,color = 'green')\n",
    "\n",
    "#????"
   ]
  },
  {
   "cell_type": "code",
   "execution_count": null,
   "metadata": {},
   "outputs": [],
   "source": []
  },
  {
   "cell_type": "markdown",
   "metadata": {},
   "source": [
    "#### Assume you have N features (x1, x2,x...xN). Create n-th order polynomial for that features, i.e. for n = 2 and N = 2 you should have x1*x1, x1*x2, x2*x2 features. Afterwards concatenate both arrays."
   ]
  },
  {
   "cell_type": "code",
   "execution_count": null,
   "metadata": {},
   "outputs": [],
   "source": [
    "import itertools\n",
    "#arr_elem = np.array([x1,x2,x3,x4,x5,x6])\n",
    "n = 4\n",
    "polynom = np.array([])\n",
    "while n > 0:\n",
    "    polynom_i = np.array([])\n",
    "    for subset in itertools.product(arr_elem, repeat = n):\n",
    "        mul = 1\n",
    "        for i in subset:\n",
    "            mul *= i\n",
    "        polynom_i = np.append(polynom_i,mul)\n",
    "    polynom = np.hstack([A,polynom_i])\n",
    "    n -= 1\n",
    "#I found all the posible combination of length n( n-1,..,1) calculated product and added to an array.      "
   ]
  },
  {
   "cell_type": "code",
   "execution_count": null,
   "metadata": {},
   "outputs": [],
   "source": []
  },
  {
   "cell_type": "code",
   "execution_count": null,
   "metadata": {},
   "outputs": [],
   "source": []
  },
  {
   "cell_type": "code",
   "execution_count": null,
   "metadata": {},
   "outputs": [],
   "source": []
  },
  {
   "cell_type": "code",
   "execution_count": null,
   "metadata": {},
   "outputs": [],
   "source": []
  },
  {
   "cell_type": "code",
   "execution_count": null,
   "metadata": {},
   "outputs": [],
   "source": []
  },
  {
   "cell_type": "code",
   "execution_count": null,
   "metadata": {},
   "outputs": [],
   "source": []
  },
  {
   "cell_type": "code",
   "execution_count": null,
   "metadata": {},
   "outputs": [],
   "source": []
  },
  {
   "cell_type": "code",
   "execution_count": null,
   "metadata": {},
   "outputs": [],
   "source": []
  },
  {
   "cell_type": "code",
   "execution_count": null,
   "metadata": {},
   "outputs": [],
   "source": []
  },
  {
   "cell_type": "code",
   "execution_count": null,
   "metadata": {},
   "outputs": [],
   "source": []
  }
 ],
 "metadata": {
  "kernelspec": {
   "display_name": "Python 3 (ipykernel)",
   "language": "python",
   "name": "python3"
  },
  "language_info": {
   "codemirror_mode": {
    "name": "ipython",
    "version": 3
   },
   "file_extension": ".py",
   "mimetype": "text/x-python",
   "name": "python",
   "nbconvert_exporter": "python",
   "pygments_lexer": "ipython3",
   "version": "3.9.7"
  },
  "toc": {
   "base_numbering": 1,
   "nav_menu": {},
   "number_sections": true,
   "sideBar": true,
   "skip_h1_title": false,
   "title_cell": "Table of Contents",
   "title_sidebar": "Contents",
   "toc_cell": false,
   "toc_position": {
    "height": "calc(100% - 180px)",
    "left": "10px",
    "top": "150px",
    "width": "384px"
   },
   "toc_section_display": true,
   "toc_window_display": true
  }
 },
 "nbformat": 4,
 "nbformat_minor": 1
}
